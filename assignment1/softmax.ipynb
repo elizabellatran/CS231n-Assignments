{
 "cells": [
  {
   "cell_type": "markdown",
   "metadata": {},
   "source": [
    "Partnered with Wayne Lu to complete this assignment "
   ]
  },
  {
   "cell_type": "markdown",
   "metadata": {},
   "source": [
    "# Softmax exercise\n",
    "\n",
    "*Complete and hand in this completed worksheet (including its outputs and any supporting code outside of the worksheet) with your assignment submission. For more details see the [assignments page](http://vision.stanford.edu/teaching/cs231n/assignments.html) on the course website.*\n",
    "\n",
    "This exercise is analogous to the SVM exercise. You will:\n",
    "\n",
    "- implement a fully-vectorized **loss function** for the Softmax classifier\n",
    "- implement the fully-vectorized expression for its **analytic gradient**\n",
    "- **check your implementation** with numerical gradient\n",
    "- use a validation set to **tune the learning rate and regularization** strength\n",
    "- **optimize** the loss function with **SGD**\n",
    "- **visualize** the final learned weights\n"
   ]
  },
  {
   "cell_type": "code",
   "execution_count": 1,
   "metadata": {
    "collapsed": true
   },
   "outputs": [],
   "source": [
    "import random\n",
    "import numpy as np\n",
    "from cs231n.data_utils import load_CIFAR10\n",
    "import matplotlib.pyplot as plt\n",
    "\n",
    "from __future__ import print_function\n",
    "\n",
    "%matplotlib inline\n",
    "plt.rcParams['figure.figsize'] = (10.0, 8.0) # set default size of plots\n",
    "plt.rcParams['image.interpolation'] = 'nearest'\n",
    "plt.rcParams['image.cmap'] = 'gray'\n",
    "\n",
    "# for auto-reloading extenrnal modules\n",
    "# see http://stackoverflow.com/questions/1907993/autoreload-of-modules-in-ipython\n",
    "%load_ext autoreload\n",
    "%autoreload 2"
   ]
  },
  {
   "cell_type": "code",
   "execution_count": 2,
   "metadata": {},
   "outputs": [
    {
     "name": "stdout",
     "output_type": "stream",
     "text": [
      "Train data shape:  (49000, 3073)\n",
      "Train labels shape:  (49000,)\n",
      "Validation data shape:  (1000, 3073)\n",
      "Validation labels shape:  (1000,)\n",
      "Test data shape:  (1000, 3073)\n",
      "Test labels shape:  (1000,)\n",
      "dev data shape:  (500, 3073)\n",
      "dev labels shape:  (500,)\n"
     ]
    }
   ],
   "source": [
    "def get_CIFAR10_data(num_training=49000, num_validation=1000, num_test=1000, num_dev=500):\n",
    "    \"\"\"\n",
    "    Load the CIFAR-10 dataset from disk and perform preprocessing to prepare\n",
    "    it for the linear classifier. These are the same steps as we used for the\n",
    "    SVM, but condensed to a single function.  \n",
    "    \"\"\"\n",
    "    # Load the raw CIFAR-10 data\n",
    "    cifar10_dir = 'cs231n/datasets/cifar-10-batches-py'\n",
    "    X_train, y_train, X_test, y_test = load_CIFAR10(cifar10_dir)\n",
    "    \n",
    "    # subsample the data\n",
    "    mask = list(range(num_training, num_training + num_validation))\n",
    "    X_val = X_train[mask]\n",
    "    y_val = y_train[mask]\n",
    "    mask = list(range(num_training))\n",
    "    X_train = X_train[mask]\n",
    "    y_train = y_train[mask]\n",
    "    mask = list(range(num_test))\n",
    "    X_test = X_test[mask]\n",
    "    y_test = y_test[mask]\n",
    "    mask = np.random.choice(num_training, num_dev, replace=False)\n",
    "    X_dev = X_train[mask]\n",
    "    y_dev = y_train[mask]\n",
    "    \n",
    "    # Preprocessing: reshape the image data into rows\n",
    "    X_train = np.reshape(X_train, (X_train.shape[0], -1))\n",
    "    X_val = np.reshape(X_val, (X_val.shape[0], -1))\n",
    "    X_test = np.reshape(X_test, (X_test.shape[0], -1))\n",
    "    X_dev = np.reshape(X_dev, (X_dev.shape[0], -1))\n",
    "    \n",
    "    # Normalize the data: subtract the mean image\n",
    "    mean_image = np.mean(X_train, axis = 0)\n",
    "    X_train -= mean_image\n",
    "    X_val -= mean_image\n",
    "    X_test -= mean_image\n",
    "    X_dev -= mean_image\n",
    "    \n",
    "    # add bias dimension and transform into columns\n",
    "    X_train = np.hstack([X_train, np.ones((X_train.shape[0], 1))])\n",
    "    X_val = np.hstack([X_val, np.ones((X_val.shape[0], 1))])\n",
    "    X_test = np.hstack([X_test, np.ones((X_test.shape[0], 1))])\n",
    "    X_dev = np.hstack([X_dev, np.ones((X_dev.shape[0], 1))])\n",
    "    \n",
    "    return X_train, y_train, X_val, y_val, X_test, y_test, X_dev, y_dev\n",
    "\n",
    "\n",
    "# Invoke the above function to get our data.\n",
    "X_train, y_train, X_val, y_val, X_test, y_test, X_dev, y_dev = get_CIFAR10_data()\n",
    "print('Train data shape: ', X_train.shape)\n",
    "print('Train labels shape: ', y_train.shape)\n",
    "print('Validation data shape: ', X_val.shape)\n",
    "print('Validation labels shape: ', y_val.shape)\n",
    "print('Test data shape: ', X_test.shape)\n",
    "print('Test labels shape: ', y_test.shape)\n",
    "print('dev data shape: ', X_dev.shape)\n",
    "print('dev labels shape: ', y_dev.shape)"
   ]
  },
  {
   "cell_type": "markdown",
   "metadata": {},
   "source": [
    "## Softmax Classifier\n",
    "\n",
    "Your code for this section will all be written inside **cs231n/classifiers/softmax.py**. \n"
   ]
  },
  {
   "cell_type": "code",
   "execution_count": 4,
   "metadata": {},
   "outputs": [
    {
     "name": "stdout",
     "output_type": "stream",
     "text": [
      "gradient [[ -2.91903084e+00  -8.93685510e-01  -2.80674641e-01 ...,   4.62727074e-01\n",
      "   -2.82217860e+00  -2.59604602e+00]\n",
      " [ -3.42628422e+00  -5.23430670e-01  -3.35737148e-03 ...,  -1.97728154e-01\n",
      "   -3.49028565e+00  -3.26540848e+00]\n",
      " [ -5.29587389e+00  -5.72646300e-01   6.57421646e-01 ...,  -5.39166999e-01\n",
      "   -4.76687559e+00  -4.24353697e+00]\n",
      " ..., \n",
      " [  2.19355478e-01   5.17205356e-01  -1.51465948e+00 ...,  -1.59838207e+00\n",
      "    1.68683975e+00   5.69552580e-02]\n",
      " [ -5.09901007e-01  -3.59839322e-01  -1.42126212e+00 ...,  -4.21175046e-01\n",
      "   -2.90135282e-02  -2.89636778e-01]\n",
      " [ -1.44492038e-02   8.48728428e-03   1.18943814e-02 ...,  -7.39750886e-03\n",
      "   -4.19877548e-03   2.38350781e-02]]\n",
      "loss: 2.356788\n",
      "sanity check: 2.302585\n"
     ]
    }
   ],
   "source": [
    "# First implement the naive softmax loss function with nested loops.\n",
    "# Open the file cs231n/classifiers/softmax.py and implement the\n",
    "# softmax_loss_naive function.\n",
    "\n",
    "from cs231n.classifiers.softmax import softmax_loss_naive\n",
    "import time\n",
    "\n",
    "# Generate a random softmax weight matrix and use it to compute the loss.\n",
    "W = np.random.randn(3073, 10) * 0.0001\n",
    "loss, grad = softmax_loss_naive(W, X_dev, y_dev, 0.0)\n",
    "print(\"gradient\", grad)\n",
    "\n",
    "# As a rough sanity check, our loss should be something close to -log(0.1).\n",
    "print('loss: %f' % loss)\n",
    "print('sanity check: %f' % (-np.log(0.1)))"
   ]
  },
  {
   "cell_type": "markdown",
   "metadata": {},
   "source": [
    "## Inline Question 1:\n",
    "Why do we expect our loss to be close to -log(0.1)? Explain briefly.**\n",
    "\n",
    "**Your answer:** *Fill this in*\n"
   ]
  },
  {
   "cell_type": "markdown",
   "metadata": {},
   "source": [
    "We expect our loss to be close to -log(0.1), because: "
   ]
  },
  {
   "cell_type": "code",
   "execution_count": 5,
   "metadata": {},
   "outputs": [
    {
     "name": "stdout",
     "output_type": "stream",
     "text": [
      "numeric gradient checking as a debugging tool\n",
      "numerical: -3.069892 analytic: -3.069892, relative error: 2.174700e-08\n",
      "numerical: -3.290849 analytic: -3.290849, relative error: 6.635600e-09\n",
      "numerical: 2.113657 analytic: 2.113657, relative error: 1.815333e-08\n",
      "numerical: 1.849958 analytic: 1.849958, relative error: 3.557982e-08\n",
      "numerical: -0.551418 analytic: -0.551419, relative error: 1.103069e-08\n",
      "numerical: 1.958243 analytic: 1.958243, relative error: 2.517374e-08\n",
      "numerical: 0.309322 analytic: 0.309322, relative error: 9.301085e-08\n",
      "numerical: 1.811798 analytic: 1.811798, relative error: 1.603747e-08\n",
      "numerical: -0.141959 analytic: -0.141959, relative error: 2.634270e-07\n",
      "numerical: -1.041993 analytic: -1.041993, relative error: 5.883239e-08\n",
      "gradient check with regularization\n",
      "numerical: -1.313621 analytic: -1.315104, relative error: 5.640751e-04\n",
      "numerical: -0.521065 analytic: -0.520999, relative error: 6.263148e-05\n",
      "numerical: -2.803637 analytic: -2.813875, relative error: 1.822433e-03\n",
      "numerical: -0.268714 analytic: -0.272899, relative error: 7.726098e-03\n",
      "numerical: 0.250766 analytic: 0.247969, relative error: 5.606955e-03\n",
      "numerical: -0.346605 analytic: -0.348077, relative error: 2.119313e-03\n",
      "numerical: -0.183293 analytic: -0.192163, relative error: 2.362453e-02\n",
      "numerical: -0.623945 analytic: -0.616893, relative error: 5.683978e-03\n",
      "numerical: 3.230719 analytic: 3.225542, relative error: 8.018559e-04\n",
      "numerical: -1.624794 analytic: -1.631497, relative error: 2.058583e-03\n"
     ]
    }
   ],
   "source": [
    "# Complete the implementation of softmax_loss_naive and implement a (naive)\n",
    "# version of the gradient that uses nested loops.\n",
    "loss, grad = softmax_loss_naive(W, X_dev, y_dev, 0.0)\n",
    "\n",
    "# As we did for the SVM, use numeric gradient checking as a debugging tool.\n",
    "# The numeric gradient should be close to the analytic gradient.\n",
    "from cs231n.gradient_check import grad_check_sparse\n",
    "print(\"numeric gradient checking as a debugging tool\")\n",
    "f = lambda w: softmax_loss_naive(w, X_dev, y_dev, 0.0)[0]\n",
    "grad_numerical = grad_check_sparse(f, W, grad, 10)\n",
    "\n",
    "# similar to SVM case, do another gradient check with regularization\n",
    "print(\"gradient check with regularization\")\n",
    "loss, grad = softmax_loss_naive(W, X_dev, y_dev, 5e1)\n",
    "f = lambda w: softmax_loss_naive(w, X_dev, y_dev, 5e1)[0]\n",
    "grad_numerical = grad_check_sparse(f, W, grad, 10)"
   ]
  },
  {
   "cell_type": "code",
   "execution_count": 6,
   "metadata": {},
   "outputs": [
    {
     "name": "stdout",
     "output_type": "stream",
     "text": [
      "naive loss: 2.356788e+00 computed in 0.092347s\n",
      "vectorized loss: 2.356788e+00 computed in 0.005597s\n",
      "Loss difference: 0.000000\n",
      "Gradient difference: 0.000000\n"
     ]
    }
   ],
   "source": [
    "# Now that we have a naive implementation of the softmax loss function and its gradient,\n",
    "# implement a vectorized version in softmax_loss_vectorized.\n",
    "# The two versions should compute the same results, but the vectorized version should be\n",
    "# much faster \n",
    "\n",
    "tic = time.time()\n",
    "loss_naive, grad_naive = softmax_loss_naive(W, X_dev, y_dev, 0.000005)\n",
    "toc = time.time()\n",
    "print('naive loss: %e computed in %fs' % (loss_naive, toc - tic))\n",
    "\n",
    "from cs231n.classifiers.softmax import softmax_loss_vectorized\n",
    "tic = time.time()\n",
    "loss_vectorized, grad_vectorized = softmax_loss_vectorized(W, X_dev, y_dev, 0.000005)\n",
    "toc = time.time()\n",
    "print('vectorized loss: %e computed in %fs' % (loss_vectorized, toc - tic))\n",
    "\n",
    "# As we did for the SVM, we use the Frobenius norm to compare the two versions\n",
    "# of the gradient.\n",
    "grad_difference = np.linalg.norm(grad_naive - grad_vectorized, ord='fro')\n",
    "print('Loss difference: %f' % np.abs(loss_naive - loss_vectorized))\n",
    "print('Gradient difference: %f' % grad_difference)\n"
   ]
  },
  {
   "cell_type": "code",
   "execution_count": 7,
   "metadata": {
    "scrolled": true
   },
   "outputs": [
    {
     "name": "stdout",
     "output_type": "stream",
     "text": [
      "iteration 0 / 2000: loss 776.243890\n",
      "iteration 100 / 2000: loss 468.974008\n",
      "iteration 200 / 2000: loss 284.149595\n",
      "iteration 300 / 2000: loss 172.455230\n",
      "iteration 400 / 2000: loss 105.302636\n",
      "iteration 500 / 2000: loss 64.497882\n",
      "iteration 600 / 2000: loss 39.881843\n",
      "iteration 700 / 2000: loss 24.957357\n",
      "iteration 800 / 2000: loss 15.890942\n",
      "iteration 900 / 2000: loss 10.501771\n",
      "iteration 1000 / 2000: loss 7.202154\n",
      "iteration 1100 / 2000: loss 5.139235\n",
      "iteration 1200 / 2000: loss 3.997192\n",
      "iteration 1300 / 2000: loss 3.256118\n",
      "iteration 1400 / 2000: loss 2.745630\n",
      "iteration 1500 / 2000: loss 2.543378\n",
      "iteration 1600 / 2000: loss 2.362923\n",
      "iteration 1700 / 2000: loss 2.244911\n",
      "iteration 1800 / 2000: loss 2.150693\n",
      "iteration 1900 / 2000: loss 2.152294\n",
      "iteration 0 / 2000: loss 1544.581163\n",
      "iteration 100 / 2000: loss 566.432416\n",
      "iteration 200 / 2000: loss 208.475175\n",
      "iteration 300 / 2000: loss 77.755764\n",
      "iteration 400 / 2000: loss 29.892712\n",
      "iteration 500 / 2000: loss 12.302353\n",
      "iteration 600 / 2000: loss 5.924722\n",
      "iteration 700 / 2000: loss 3.556689\n",
      "iteration 800 / 2000: loss 2.655374\n",
      "iteration 900 / 2000: loss 2.308614\n",
      "iteration 1000 / 2000: loss 2.206638\n",
      "iteration 1100 / 2000: loss 2.185513\n",
      "iteration 1200 / 2000: loss 2.227188\n",
      "iteration 1300 / 2000: loss 2.199957\n",
      "iteration 1400 / 2000: loss 2.200187\n",
      "iteration 1500 / 2000: loss 2.149565\n",
      "iteration 1600 / 2000: loss 2.143865\n",
      "iteration 1700 / 2000: loss 2.192836\n",
      "iteration 1800 / 2000: loss 2.226553\n",
      "iteration 1900 / 2000: loss 2.147763\n",
      "iteration 0 / 2000: loss 770.610344\n",
      "iteration 100 / 2000: loss 63.382536\n",
      "iteration 200 / 2000: loss 6.901392\n",
      "iteration 300 / 2000: loss 2.495886\n",
      "iteration 400 / 2000: loss 2.132349\n",
      "iteration 500 / 2000: loss 2.165225\n",
      "iteration 600 / 2000: loss 2.056872\n",
      "iteration 700 / 2000: loss 2.089827\n",
      "iteration 800 / 2000: loss 2.123873\n",
      "iteration 900 / 2000: loss 2.078851\n",
      "iteration 1000 / 2000: loss 2.154601\n",
      "iteration 1100 / 2000: loss 2.164917\n",
      "iteration 1200 / 2000: loss 2.159621\n",
      "iteration 1300 / 2000: loss 2.138518\n",
      "iteration 1400 / 2000: loss 2.062581\n",
      "iteration 1500 / 2000: loss 2.142164\n",
      "iteration 1600 / 2000: loss 2.197422\n",
      "iteration 1700 / 2000: loss 2.150565\n",
      "iteration 1800 / 2000: loss 2.138392\n",
      "iteration 1900 / 2000: loss 2.097683\n",
      "iteration 0 / 2000: loss 1542.896845\n",
      "iteration 100 / 2000: loss 11.852744\n",
      "iteration 200 / 2000: loss 2.253444\n",
      "iteration 300 / 2000: loss 2.228208\n",
      "iteration 400 / 2000: loss 2.196905\n",
      "iteration 500 / 2000: loss 2.125134\n",
      "iteration 600 / 2000: loss 2.171846\n",
      "iteration 700 / 2000: loss 2.169206\n",
      "iteration 800 / 2000: loss 2.152114\n",
      "iteration 900 / 2000: loss 2.143104\n",
      "iteration 1000 / 2000: loss 2.179543\n",
      "iteration 1100 / 2000: loss 2.210721\n",
      "iteration 1200 / 2000: loss 2.139173\n",
      "iteration 1300 / 2000: loss 2.156139\n",
      "iteration 1400 / 2000: loss 2.173498\n",
      "iteration 1500 / 2000: loss 2.222956\n",
      "iteration 1600 / 2000: loss 2.208472\n",
      "iteration 1700 / 2000: loss 2.164146\n",
      "iteration 1800 / 2000: loss 2.177120\n",
      "iteration 1900 / 2000: loss 2.241126\n",
      "lr 1.000000e-07 reg 2.500000e+04 train accuracy: 0.349592 val accuracy: 0.364000\n",
      "lr 1.000000e-07 reg 5.000000e+04 train accuracy: 0.330918 val accuracy: 0.348000\n",
      "lr 5.000000e-07 reg 2.500000e+04 train accuracy: 0.346327 val accuracy: 0.357000\n",
      "lr 5.000000e-07 reg 5.000000e+04 train accuracy: 0.318571 val accuracy: 0.327000\n",
      "best validation accuracy achieved during cross-validation: 0.364000\n"
     ]
    }
   ],
   "source": [
    "# Use the validation set to tune hyperparameters (regularization strength and\n",
    "# learning rate). You should experiment with different ranges for the learning\n",
    "# rates and regularization strengths; if you are careful you should be able to\n",
    "# get a classification accuracy of over 0.35 on the validation set.\n",
    "\n",
    "from cs231n.classifiers import Softmax\n",
    "results = {}\n",
    "best_val = -1\n",
    "best_softmax = None\n",
    "learning_rates = [1e-7, 5e-7]\n",
    "regularization_strengths = [2.5e4, 5e4]\n",
    "\n",
    "################################################################################\n",
    "# TODO:                                                                        #\n",
    "# Use the validation set to set the learning rate and regularization strength. #\n",
    "# This should be identical to the validation that you did for the SVM; save    #\n",
    "# the best trained softmax classifer in best_softmax.                          #\n",
    "################################################################################\n",
    "\n",
    "iters = 2000 #100  \n",
    "\n",
    "for lr in learning_rates: \n",
    "    for reg  in regularization_strengths: \n",
    "        softmax= Softmax() #training softmax\n",
    "        softmax.train(X_train, y_train, learning_rate= lr, reg= reg, num_iters= iters, verbose=  True)\n",
    "        \n",
    "        y_train_pred = softmax.predict(X_train)\n",
    "        train_accuc = np.mean(y_train == y_train_pred) #training acc\n",
    "        \n",
    "        y_val_pred = softmax.predict (X_val)\n",
    "        val_accuc = np.mean(y_val == y_val_pred) # validation acc \n",
    "        \n",
    "        #storing #'s of training and validation accuc \n",
    "        results[lr, reg] = (train_accuc, val_accuc)\n",
    "        \n",
    "        #storing best valalidation acc (best_val). for best_svm\n",
    "        if best_val < val_accuc: \n",
    "            best_val = val_accuc # making best_val  = val_acc \n",
    "            best_softmax = softmax\n",
    "            \n",
    "################################################################################\n",
    "#                              END OF YOUR CODE                                #\n",
    "################################################################################\n",
    "    \n",
    "# Print out results.\n",
    "for lr, reg in sorted(results):\n",
    "    train_accuracy, val_accuracy = results[(lr, reg)]\n",
    "    print('lr %e reg %e train accuracy: %f val accuracy: %f' % (\n",
    "                lr, reg, train_accuracy, val_accuracy))\n",
    "    \n",
    "print('best validation accuracy achieved during cross-validation: %f' % best_val)\n",
    "\n",
    "# at 100 iters, best validation accuracy achieved during cross-validation: 0.320000\n",
    "#2000= 36.8"
   ]
  },
  {
   "cell_type": "code",
   "execution_count": 8,
   "metadata": {},
   "outputs": [
    {
     "name": "stdout",
     "output_type": "stream",
     "text": [
      "softmax on raw pixels final test set accuracy: 0.364000\n"
     ]
    }
   ],
   "source": [
    "# evaluate on test set\n",
    "# Evaluate the best softmax on test set\n",
    "y_test_pred = best_softmax.predict(X_test)\n",
    "test_accuracy = np.mean(y_test == y_test_pred)\n",
    "print('softmax on raw pixels final test set accuracy: %f' % (test_accuracy, ))"
   ]
  },
  {
   "cell_type": "code",
   "execution_count": 9,
   "metadata": {
    "scrolled": true
   },
   "outputs": [
    {
     "data": {
      "image/png": "[encoded data removed]",
      "text/plain": [
       "<matplotlib.figure.Figure at 0x11789d550>"
      ]
     },
     "metadata": {},
     "output_type": "display_data"
    }
   ],
   "source": [
    "# Visualize the learned weights for each class\n",
    "w = best_softmax.W[:-1,:] # strip out the bias\n",
    "w = w.reshape(32, 32, 3, 10)\n",
    "\n",
    "w_min, w_max = np.min(w), np.max(w)\n",
    "\n",
    "classes = ['plane', 'car', 'bird', 'cat', 'deer', 'dog', 'frog', 'horse', 'ship', 'truck']\n",
    "for i in range(10):\n",
    "    plt.subplot(2, 5, i + 1)\n",
    "    \n",
    "    # Rescale the weights to be between 0 and 255\n",
    "    wimg = 255.0 * (w[:, :, :, i].squeeze() - w_min) / (w_max - w_min)\n",
    "    plt.imshow(wimg.astype('uint8'))\n",
    "    plt.axis('off')\n",
    "    plt.title(classes[i])"
   ]
  },
  {
   "cell_type": "code",
   "execution_count": null,
   "metadata": {
    "collapsed": true
   },
   "outputs": [],
   "source": []
  },
  {
   "cell_type": "code",
   "execution_count": null,
   "metadata": {
    "collapsed": true
   },
   "outputs": [],
   "source": []
  },
  {
   "cell_type": "code",
   "execution_count": null,
   "metadata": {
    "collapsed": true
   },
   "outputs": [],
   "source": []
  }
 ],
 "metadata": {
  "kernelspec": {
   "display_name": "Python 2",
   "language": "python",
   "name": "python2"
  },
  "language_info": {
   "codemirror_mode": {
    "name": "ipython",
    "version": 3
   },
   "file_extension": ".py",
   "mimetype": "text/x-python",
   "name": "python",
   "nbconvert_exporter": "python",
   "pygments_lexer": "ipython3",
   "version": "3.6.1"
  }
 },
 "nbformat": 4,
 "nbformat_minor": 1
}
